{
 "cells": [
  {
   "cell_type": "markdown",
   "metadata": {},
   "source": [
    "# The Model Subclassing API"
   ]
  },
  {
   "cell_type": "code",
   "execution_count": 1,
   "metadata": {},
   "outputs": [],
   "source": [
    "import tensorflow as tf"
   ]
  },
  {
   "cell_type": "code",
   "execution_count": 2,
   "metadata": {},
   "outputs": [],
   "source": [
    "img_rows = 28\n",
    "img_cols = 28"
   ]
  },
  {
   "cell_type": "code",
   "execution_count": 3,
   "metadata": {},
   "outputs": [],
   "source": [
    "(X_train, y_train), (X_test, y_test) = tf.keras.datasets.mnist.load_data()\n",
    "X_train = X_train.reshape(X_train.shape[0], img_rows, img_cols, 1)\n",
    "X_test = X_test.reshape(X_test.shape[0], img_rows, img_cols, 1)"
   ]
  },
  {
   "cell_type": "code",
   "execution_count": 4,
   "metadata": {},
   "outputs": [],
   "source": [
    "X_train = X_train.astype('float32')\n",
    "X_test = X_test.astype('float32')\n",
    "X_train /= 255\n",
    "X_test /= 255"
   ]
  },
  {
   "cell_type": "code",
   "execution_count": 5,
   "metadata": {},
   "outputs": [],
   "source": [
    "class CNNClassifier(tf.keras.Model):\n",
    "    \n",
    "    def __init__(self, num_classes):\n",
    "        super(CNNClassifier, self).__init__(name='CNNClassifier')\n",
    "        self.num_classes = num_classes\n",
    "        self.conv = tf.keras.layers.Conv2D(32, kernel_size=(3, 3),\n",
    "                                             activation='relu')\n",
    "        self.max_pool = tf.keras.layers.MaxPooling2D(pool_size=(2, 2))\n",
    "        self.dropout_1 = tf.keras.layers.Dropout(.25)\n",
    "        self.flatten = tf.keras.layers.Flatten()\n",
    "        self.dense_1 = tf.keras.layers.Dense(128, activation='relu')\n",
    "        self.dropout_2 = tf.keras.layers.Dropout(.5)\n",
    "        self.dense_2 = tf.keras.layers.Dense(num_classes, activation='softmax')\n",
    "        \n",
    "    def call(self, input_tensor, training=False):\n",
    "        x = self.conv(input_tensor)\n",
    "        x = self.max_pool(x)\n",
    "        if training:\n",
    "            x = self.dropout_1(x, training=training)\n",
    "        x = self.flatten(x)\n",
    "        x = self.dense_1(x)\n",
    "        if training:\n",
    "            x = self.dropout_2(x, training=training)\n",
    "        \n",
    "        return self.dense_2(x)\n"
   ]
  },
  {
   "cell_type": "code",
   "execution_count": 6,
   "metadata": {},
   "outputs": [],
   "source": [
    "minst_clf = CNNClassifier(num_classes=10)\n",
    "minst_clf.compile(optimizer=\"rmsprop\",\n",
    "              loss='categorical_crossentropy',\n",
    "              metrics=['accuracy'])"
   ]
  },
  {
   "cell_type": "code",
   "execution_count": 7,
   "metadata": {},
   "outputs": [
    {
     "name": "stdout",
     "output_type": "stream",
     "text": [
      "Epoch 1/5\n",
      "60000/60000 [==============================] - 62s 1ms/sample - loss: 0.1472 - accuracy: 0.9543\n",
      "Epoch 2/5\n",
      "60000/60000 [==============================] - 62s 1ms/sample - loss: 0.0531 - accuracy: 0.9845\n",
      "Epoch 3/5\n",
      "60000/60000 [==============================] - 62s 1ms/sample - loss: 0.0391 - accuracy: 0.9884\n",
      "Epoch 4/5\n",
      "60000/60000 [==============================] - 60s 1ms/sample - loss: 0.0293 - accuracy: 0.9918\n",
      "Epoch 5/5\n",
      "60000/60000 [==============================] - 63s 1ms/sample - loss: 0.0236 - accuracy: 0.9935\n"
     ]
    },
    {
     "data": {
      "text/plain": [
       "<tensorflow.python.keras.callbacks.History at 0x234861bd0b8>"
      ]
     },
     "execution_count": 7,
     "metadata": {},
     "output_type": "execute_result"
    }
   ],
   "source": [
    "minst_clf.fit(X_train, tf.keras.utils.to_categorical(y_train), batch_size=32, epochs=5)"
   ]
  },
  {
   "cell_type": "code",
   "execution_count": 9,
   "metadata": {},
   "outputs": [
    {
     "name": "stdout",
     "output_type": "stream",
     "text": [
      "10000/10000 [==============================] - 3s 268us/sample - loss: 0.0467 - accuracy: 0.9853\n"
     ]
    },
    {
     "data": {
      "text/plain": [
       "[0.04672080550612882, 0.9853]"
      ]
     },
     "execution_count": 9,
     "metadata": {},
     "output_type": "execute_result"
    }
   ],
   "source": [
    "minst_clf.evaluate(X_test, tf.keras.utils.to_categorical(y_test))"
   ]
  }
 ],
 "metadata": {
  "kernelspec": {
   "display_name": "Python 3",
   "language": "python",
   "name": "python3"
  },
  "language_info": {
   "codemirror_mode": {
    "name": "ipython",
    "version": 3
   },
   "file_extension": ".py",
   "mimetype": "text/x-python",
   "name": "python",
   "nbconvert_exporter": "python",
   "pygments_lexer": "ipython3",
   "version": "3.6.8"
  }
 },
 "nbformat": 4,
 "nbformat_minor": 2
}
